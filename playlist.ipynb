{
 "cells": [
  {
   "cell_type": "markdown",
   "id": "5ebcb8ee",
   "metadata": {},
   "source": [
    "## Import libraries"
   ]
  },
  {
   "cell_type": "code",
   "execution_count": 11,
   "id": "55b98474",
   "metadata": {},
   "outputs": [],
   "source": [
    "import spotipy, csv, os, polars as pl\n",
    "from spotipy.oauth2 import SpotifyOAuth\n",
    "from dotenv import load_dotenv"
   ]
  },
  {
   "cell_type": "markdown",
   "id": "0fc0f289",
   "metadata": {},
   "source": [
    "## Authentication"
   ]
  },
  {
   "cell_type": "code",
   "execution_count": 12,
   "id": "bdc93c9a",
   "metadata": {},
   "outputs": [],
   "source": [
    "load_dotenv()\n",
    "\n",
    "sp = spotipy.Spotify(auth_manager=SpotifyOAuth(\n",
    "    client_id = os.getenv(\"SPOTIFY_CLIENT_ID\"),\n",
    "    client_secret = os.getenv(\"SPOTIFY_CLIENT_SECRET\"),\n",
    "    redirect_uri = os.getenv(\"SPOTIFY_REDIRECT_URI\"),\n",
    "    scope=(\n",
    "        \"user-library-read user-library-modify \"\n",
    "        \"playlist-read-private playlist-read-collaborative \"\n",
    "        \"playlist-modify-public playlist-modify-private \"\n",
    "        \"user-read-private user-read-email \"\n",
    "        \"user-top-read user-follow-read \"\n",
    "        \"user-follow-modify user-read-playback-state \"\n",
    "        \"user-modify-playback-state user-read-currently-playing \"\n",
    "        \"user-read-recently-played app-remote-control \"\n",
    "        \"streaming ugc-image-upload\"\n",
    "    )\n",
    "))"
   ]
  },
  {
   "cell_type": "code",
   "execution_count": 13,
   "id": "576d75a2",
   "metadata": {},
   "outputs": [],
   "source": [
    "playlist_id = \"https://open.spotify.com/playlist/3STWxskDuGGeqe6K1znyQG?si=14f8966f15db4d2a\" #My Playlist ('tech')\n",
    "playlist_URI = playlist_id.split(\"/\")[-1].split(\"?\")[0]"
   ]
  },
  {
   "cell_type": "markdown",
   "id": "7073f105",
   "metadata": {},
   "source": [
    "## Getting tracks from playlist"
   ]
  },
  {
   "cell_type": "code",
   "execution_count": 14,
   "id": "46999adc",
   "metadata": {},
   "outputs": [
    {
     "name": "stdout",
     "output_type": "stream",
     "text": [
      "Total songs found: 517\n"
     ]
    }
   ],
   "source": [
    "tracks = []\n",
    "results = sp.playlist_tracks(playlist_id, limit=100, offset=0)\n",
    "tracks.extend(results['items'])\n",
    "\n",
    "while results['next']:\n",
    "    results = sp.next(results)\n",
    "    tracks.extend(results['items'])\n",
    "\n",
    "print(f\"Total songs found: {len(tracks)}\")\n",
    "\n",
    "#Extract data from each track\n",
    "data = []\n",
    "for item in tracks:\n",
    "    track = item['track']\n",
    "    if track is None:  #There may be deleted songs\n",
    "        continue\n",
    "\n",
    "    info = {\n",
    "        'track_name': track['name'],\n",
    "        'artists': ', '.join([artist['name'] for artist in track['artists']]),\n",
    "        'album': track['album']['name'],\n",
    "        'release_date': track['album']['release_date'],\n",
    "        'popularity': track['popularity'],\n",
    "        'duration_ms': track['duration_ms'],\n",
    "        'explicit': track['explicit'],\n",
    "        'id': track['id'],\n",
    "        'type': track['type'],\n",
    "        'track_number': track['track_number'],\n",
    "\n",
    "    }\n",
    "    data.append(info)"
   ]
  },
  {
   "cell_type": "markdown",
   "id": "23a9e748",
   "metadata": {},
   "source": [
    "## Save / Update .CSV"
   ]
  },
  {
   "cell_type": "code",
   "execution_count": 15,
   "id": "ea00878d",
   "metadata": {},
   "outputs": [
    {
     "name": "stdout",
     "output_type": "stream",
     "text": [
      "Data saved in data/data.csv\n"
     ]
    }
   ],
   "source": [
    "with open('../data/data.csv', 'w', newline='', encoding='utf-8') as f:\n",
    "    writer = csv.DictWriter(f, fieldnames=data[0].keys())\n",
    "    writer.writeheader()\n",
    "    writer.writerows(data)\n",
    "\n",
    "print(\"Data saved in data/data.csv\")"
   ]
  }
 ],
 "metadata": {
  "kernelspec": {
   "display_name": "Python 3",
   "language": "python",
   "name": "python3"
  },
  "language_info": {
   "codemirror_mode": {
    "name": "ipython",
    "version": 3
   },
   "file_extension": ".py",
   "mimetype": "text/x-python",
   "name": "python",
   "nbconvert_exporter": "python",
   "pygments_lexer": "ipython3",
   "version": "3.13.0"
  }
 },
 "nbformat": 4,
 "nbformat_minor": 5
}
